{
 "cells": [
  {
   "cell_type": "code",
   "execution_count": null,
   "metadata": {},
   "outputs": [],
   "source": [
    "# First S-Box\n",
    "S0 = [0x57, 0x49, 0xd1, 0xc6, 0x2f, 0x33, 0x74, 0xfb,\n",
    "      0x95, 0x6d, 0x82, 0xea, 0x0e, 0xb0, 0xa8, 0x1c,\n",
    "      0x28, 0xd0, 0x4b, 0x92, 0x5c, 0xee, 0x85, 0xb1,\n",
    "      0xc4, 0x0a, 0x76, 0x3d, 0x63, 0xf9, 0x17, 0xaf,\n",
    "      0xbf, 0xa1, 0x19, 0x65, 0xf7, 0x7a, 0x32, 0x20,\n",
    "      0x06, 0xce, 0xe4, 0x83, 0x9d, 0x5b, 0x4c, 0xd8,\n",
    "      0x42, 0x5d, 0x2e, 0xe8, 0xd4, 0x9b, 0x0f, 0x13,\n",
    "      0x3c, 0x89, 0x67, 0xc0, 0x71, 0xaa, 0xb6, 0xf5,\n",
    "      0xa4, 0xbe, 0xfd, 0x8c, 0x12, 0x00, 0x97, 0xda,\n",
    "      0x78, 0xe1, 0xcf, 0x6b, 0x39, 0x43, 0x55, 0x26,\n",
    "      0x30, 0x98, 0xcc, 0xdd, 0xeb, 0x54, 0xb3, 0x8f,\n",
    "      0x4e, 0x16, 0xfa, 0x22, 0xa5, 0x77, 0x09, 0x61,\n",
    "      0xd6, 0x2a, 0x53, 0x37, 0x45, 0xc1, 0x6c, 0xae,\n",
    "      0xef, 0x70, 0x08, 0x99, 0x8b, 0x1d, 0xf2, 0xb4,\n",
    "      0xe9, 0xc7, 0x9f, 0x4a, 0x31, 0x25, 0xfe, 0x7c,\n",
    "      0xd3, 0xa2, 0xbd, 0x56, 0x14, 0x88, 0x60, 0x0b,\n",
    "      0xcd, 0xe2, 0x34, 0x50, 0x9e, 0xdc, 0x11, 0x05,\n",
    "      0x2b, 0xb7, 0xa9, 0x48, 0xff, 0x66, 0x8a, 0x73,\n",
    "      0x03, 0x75, 0x86, 0xf1, 0x6a, 0xa7, 0x40, 0xc2,\n",
    "      0xb9, 0x2c, 0xdb, 0x1f, 0x58, 0x94, 0x3e, 0xed,\n",
    "      0xfc, 0x1b, 0xa0, 0x04, 0xb8, 0x8d, 0xe6, 0x59,\n",
    "      0x62, 0x93, 0x35, 0x7e, 0xca, 0x21, 0xdf, 0x47,\n",
    "      0x15, 0xf3, 0xba, 0x7f, 0xa6, 0x69, 0xc8, 0x4d,\n",
    "      0x87, 0x3b, 0x9c, 0x01, 0xe0, 0xde, 0x24, 0x52,\n",
    "      0x7b, 0x0c, 0x68, 0x1e, 0x80, 0xb2, 0x5a, 0xe7,\n",
    "      0xad, 0xd5, 0x23, 0xf4, 0x46, 0x3f, 0x91, 0xc9,\n",
    "      0x6e, 0x84, 0x72, 0xbb, 0x0d, 0x18, 0xd9, 0x96,\n",
    "      0xf0, 0x5f, 0x41, 0xac, 0x27, 0xc5, 0xe3, 0x3a,\n",
    "      0x81, 0x6f, 0x07, 0xa3, 0x79, 0xf6, 0x2d, 0x38,\n",
    "      0x1a, 0x44, 0x5e, 0xb5, 0xd2, 0xec, 0xcb, 0x90,\n",
    "      0x9a, 0x36, 0xe5, 0x29, 0xc3, 0x4f, 0xab, 0x64,\n",
    "      0x51, 0xf8, 0x10, 0xd7, 0xbc, 0x02, 0x7d, 0x8e]\n",
    "\n",
    "# Second S-Box\n",
    "S1 = [0x6c, 0xda, 0xc3, 0xe9, 0x4e, 0x9d, 0x0a, 0x3d,\n",
    "      0xb8, 0x36, 0xb4, 0x38, 0x13, 0x34, 0x0c, 0xd9,\n",
    "      0xbf, 0x74, 0x94, 0x8f, 0xb7, 0x9c, 0xe5, 0xdc,\n",
    "      0x9e, 0x07, 0x49, 0x4f, 0x98, 0x2c, 0xb0, 0x93,\n",
    "      0x12, 0xeb, 0xcd, 0xb3, 0x92, 0xe7, 0x41, 0x60,\n",
    "      0xe3, 0x21, 0x27, 0x3b, 0xe6, 0x19, 0xd2, 0x0e,\n",
    "      0x91, 0x11, 0xc7, 0x3f, 0x2a, 0x8e, 0xa1, 0xbc,\n",
    "      0x2b, 0xc8, 0xc5, 0x0f, 0x5b, 0xf3, 0x87, 0x8b,\n",
    "      0xfb, 0xf5, 0xde, 0x20, 0xc6, 0xa7, 0x84, 0xce,\n",
    "      0xd8, 0x65, 0x51, 0xc9, 0xa4, 0xef, 0x43, 0x53,\n",
    "      0x25, 0x5d, 0x9b, 0x31, 0xe8, 0x3e, 0x0d, 0xd7,\n",
    "      0x80, 0xff, 0x69, 0x8a, 0xba, 0x0b, 0x73, 0x5c,\n",
    "      0x6e, 0x54, 0x15, 0x62, 0xf6, 0x35, 0x30, 0x52,\n",
    "      0xa3, 0x16, 0xd3, 0x28, 0x32, 0xfa, 0xaa, 0x5e,\n",
    "      0xcf, 0xea, 0xed, 0x78, 0x33, 0x58, 0x09, 0x7b,\n",
    "      0x63, 0xc0, 0xc1, 0x46, 0x1e, 0xdf, 0xa9, 0x99,\n",
    "      0x55, 0x04, 0xc4, 0x86, 0x39, 0x77, 0x82, 0xec,\n",
    "      0x40, 0x18, 0x90, 0x97, 0x59, 0xdd, 0x83, 0x1f,\n",
    "      0x9a, 0x37, 0x06, 0x24, 0x64, 0x7c, 0xa5, 0x56,\n",
    "      0x48, 0x08, 0x85, 0xd0, 0x61, 0x26, 0xca, 0x6f,\n",
    "      0x7e, 0x6a, 0xb6, 0x71, 0xa0, 0x70, 0x05, 0xd1,\n",
    "      0x45, 0x8c, 0x23, 0x1c, 0xf0, 0xee, 0x89, 0xad,\n",
    "      0x7a, 0x4b, 0xc2, 0x2f, 0xdb, 0x5a, 0x4d, 0x76,\n",
    "      0x67, 0x17, 0x2d, 0xf4, 0xcb, 0xb1, 0x4a, 0xa8,\n",
    "      0xb5, 0x22, 0x47, 0x3a, 0xd5, 0x10, 0x4c, 0x72,\n",
    "      0xcc, 0x00, 0xf9, 0xe0, 0xfd, 0xe2, 0xfe, 0xae,\n",
    "      0xf8, 0x5f, 0xab, 0xf1, 0x1b, 0x42, 0x81, 0xd6,\n",
    "      0xbe, 0x44, 0x29, 0xa6, 0x57, 0xb9, 0xaf, 0xf2,\n",
    "      0xd4, 0x75, 0x66, 0xbb, 0x68, 0x9f, 0x50, 0x02,\n",
    "      0x01, 0x3c, 0x7f, 0x8d, 0x1a, 0x88, 0xbd, 0xac,\n",
    "      0xf7, 0xe4, 0x79, 0x96, 0xa2, 0xfc, 0x6d, 0xb2,\n",
    "      0x6b, 0x03, 0xe1, 0x2e, 0x7d, 0x14, 0x95, 0x1d]\n",
    "\n",
    "M0 = [0x01, 0x02, 0x04, 0x06, 0x02, 0x01, 0x06, 0x04,\n",
    "      0x04, 0x06, 0x01, 0x02, 0x06, 0x04, 0x02, 0x01]\n",
    "\n",
    "M1 = [0x01, 0x08, 0x02, 0x0a, 0x08, 0x01, 0x0a, 0x02,\n",
    "      0x02, 0x0a, 0x01, 0x08, 0x0a, 0x02, 0x08, 0x01]"
   ]
  },
  {
   "cell_type": "markdown",
   "metadata": {},
   "source": [
    "## **INITIAL WHITENING KEY**"
   ]
  },
  {
   "cell_type": "code",
   "execution_count": 47,
   "metadata": {},
   "outputs": [],
   "source": [
    "plaintext = [0x00, 0x01, 0x02, 0x03, 0x04, 0x05, 0x06,\n",
    "             0x07, 0x08, 0x09, 0x0a, 0x0b, 0x0c, 0x0d, 0x0e, 0x0f]\n",
    "\n",
    "key = [0xff, 0xee, 0xdd, 0xcc, 0xbb, 0xaa, 0x99, 0x88,\n",
    "       0x77, 0x66, 0x55, 0x44, 0x33, 0x22, 0x11, 0x00]"
   ]
  },
  {
   "cell_type": "code",
   "execution_count": 48,
   "metadata": {},
   "outputs": [
    {
     "name": "stdout",
     "output_type": "stream",
     "text": [
      "['fb', 'eb', 'db', 'cb']\n"
     ]
    }
   ],
   "source": [
    "def whitening_xor(state1, state2):\n",
    "    temp_xor = []\n",
    "    for i in range(4):\n",
    "        temp_xor.append(state1[i] ^ state2[i])\n",
    "    return temp_xor\n",
    "\n",
    "\n",
    "ehx = whitening_xor(plaintext[4:8], key[0:4])\n",
    "final = [hex(x)[2:] for x in ehx]\n",
    "\n",
    "print(final)"
   ]
  },
  {
   "cell_type": "code",
   "execution_count": 45,
   "metadata": {},
   "outputs": [],
   "source": [
    "# whitening key\n",
    "# initial whitening key\n",
    "\n",
    "# plain    = 00010203 04050607 08090a0b 0c0d0e0f\n",
    "# key      = ffeeddcc bbaa9988 77665544 33221100\n",
    "# after    = 00010203 fbebdbcb 08090a0b b7a79787\n",
    "\n",
    "def wkey_initial(plain, key):\n",
    "    wk = plain[0:4] + whitening_xor(plain[4:8], key[0:4]) + \\\n",
    "        plain[8:12] + whitening_xor(plain[12:16], key[4:8])\n",
    "    return wk"
   ]
  },
  {
   "cell_type": "code",
   "execution_count": 62,
   "metadata": {},
   "outputs": [
    {
     "name": "stdout",
     "output_type": "stream",
     "text": [
      "['0', '1', '2', '3', 'fb', 'eb', 'db', 'cb', '8', '9', 'a', 'b', 'b7', 'a7', '97', '87']\n",
      "16\n"
     ]
    }
   ],
   "source": [
    "initial_white_key = wkey_initial(plain=plaintext, key=key)\n",
    "\n",
    "initial_wk = [hex(x)[2:] for x in initial_white_key]\n",
    "print(initial_wk)\n",
    "print(len(initial_wk))"
   ]
  },
  {
   "cell_type": "markdown",
   "metadata": {},
   "source": [
    "## **GFN (d,r)**  \n",
    "GFN_{4,r}"
   ]
  },
  {
   "cell_type": "code",
   "execution_count": null,
   "metadata": {},
   "outputs": [],
   "source": [
    "# input :   32-bit round keys RK_{0}, ..., RK_{2r-1},\n",
    "#           32-bit data X0, X1, X2, X3,\n",
    "# output:   32-bit data Y0, Y1, Y2, Y3\n",
    "\n",
    "T0, T1, T2, T3 = X0, X1, X2, X3\n",
    "\n",
    "for i in range(r - 1):\n",
    "    T1 = T1 ^ F0(RK_{2i}, T0)\n",
    "    T3 = T3 ^ F1(RK_{2i + 1}, T2)"
   ]
  },
  {
   "cell_type": "code",
   "execution_count": 81,
   "metadata": {},
   "outputs": [
    {
     "name": "stdout",
     "output_type": "stream",
     "text": [
      "(1, 2, 3, 4)\n",
      "(5, 6, 7, 8)\n",
      "(9, 10, 11, 12)\n",
      "(13, 14, 15, 16)\n",
      "\n",
      "\n"
     ]
    },
    {
     "data": {
      "text/plain": [
       "[[1, 5, 9, 13], [2, 6, 10, 14], [3, 7, 11, 15], [4, 8, 12, 16]]"
      ]
     },
     "execution_count": 81,
     "metadata": {},
     "output_type": "execute_result"
    }
   ],
   "source": [
    "\n",
    "matrix = [(1, 2, 3, 4), (5, 6, 7, 8), (9, 10, 11, 12), (13, 14, 15, 16)]\n",
    "\n",
    "\n",
    "def trans(matrik):\n",
    "    trans_matrik = []\n",
    "    for row in matrik:\n",
    "        print(row)\n",
    "    print(\"\\n\")\n",
    "    # t_matrix = zip(*matrix)\n",
    "    t_matrix = map(list, zip(*matrik))\n",
    "    for row in t_matrix:\n",
    "        trans_matrik.append(row)\n",
    "    return trans_matrik\n",
    "\n",
    "\n",
    "trans(matrik=matrix)"
   ]
  },
  {
   "cell_type": "code",
   "execution_count": null,
   "metadata": {},
   "outputs": [],
   "source": [
    "# Diffusion Matrices\n",
    "# y = M0 trans(T) adalah\n",
    "def M0_trans(T0, T1, T2, T3):\n",
    "    y0 = T0 ^ (0x02 * T1) ^ (0X04 * T2) ^ (0X06 * T3)\n",
    "    y1 = (0X02 * T0) ^ (T1) ^ (0X06 * T2) ^ (0X04 * T3)\n",
    "    y2 = (0X04 * T0) ^ (0X06 * T1) ^ (T2) ^ (0X02 * T3)\n",
    "    y3 = (0X06 * T0) ^ (0X04 * T1) ^ (0X02 * T2) ^ (T3)\n",
    "    return y0, y1, y2, y3\n",
    "\n",
    "# y = M1 trans(T) adalah\n",
    "\n",
    "\n",
    "def M1_trans(T0, T1, T2, T3):\n",
    "    y0 = T0 ^ (0x08 * T1) ^ (0x02 * T2) ^ (0x0a * T3)\n",
    "    y1 = (0x08 * T0) ^ T1 ^ (0x0a * T2) ^ (0x02 * T3)\n",
    "    y2 = (0x02 * T0) ^ (0x0a * T1) ^ T2 ^ (0x08 * T3)\n",
    "    y3 = (0x0a * T0) ^ (0x02 * T1) ^ (0x08 * T2) ^ T3\n",
    "    return y0, y1, y2, y3"
   ]
  },
  {
   "cell_type": "code",
   "execution_count": null,
   "metadata": {},
   "outputs": [],
   "source": [
    "# input     : 32-bit round key RK, 32-bit data x,\n",
    "# output    : 32-bit data y\n",
    "\n",
    "def F0(RK, x):\n",
    "    T = RK ^ x\n",
    "    T0 = S0[T0]\n",
    "    T1 = S1[T1]\n",
    "    T2 = S0[T2]\n",
    "    T3 = S1[T3]\n",
    "    # T = T0 + T1 + T2 + T3\n",
    "    y0, y1, y2, y3 = M0_trans(T0, T1, T2, T3)\n",
    "    y = y0 + y1 + y2 + y3\n",
    "    return y\n",
    "\n",
    "\n",
    "def F1(RK, x):\n",
    "    T = RK ^ x\n",
    "    T0 = S1[T0]\n",
    "    T1 = S0[T1]\n",
    "    T2 = S1[T2]\n",
    "    T3 = S0[T3]\n",
    "    # T = T0 + T1 + T2 + T3\n",
    "    y0, y1, y2, y3 = M1_trans(T0, T1, T2, T3)\n",
    "    y = y0 + y1 + y2 + y3\n",
    "    return y"
   ]
  },
  {
   "cell_type": "markdown",
   "metadata": {},
   "source": [
    "## **DATA PROCESSING PART**"
   ]
  },
  {
   "cell_type": "markdown",
   "metadata": {},
   "source": [
    "***ENC***"
   ]
  },
  {
   "cell_type": "code",
   "execution_count": null,
   "metadata": {},
   "outputs": [],
   "source": [
    "# T0,T1,T2,T3 = P0 + (P1 ^ WK0) + P2 + (P3 ^ WK1)\n",
    "# P = plaintext\n",
    "# C = ciphertext\n",
    "# WK = whitening key\n",
    "\n",
    "# step 1\n",
    "T0 = P0\n",
    "T1 = P1 ^ WK0\n",
    "T2 = P2\n",
    "T3 = P3 ^ WK1\n",
    "\n",
    "# step 2\n",
    "GFN_{4,r}(RK_{0}, ..., RK_{2r - 1}, T0, T1, T2, T3)\n",
    "\n",
    "# step 3\n",
    "C0 = T0\n",
    "C1 = T1 ^ WK2\n",
    "C2 = T2\n",
    "C3 = T3 ^ WK3\n"
   ]
  },
  {
   "cell_type": "code",
   "execution_count": null,
   "metadata": {},
   "outputs": [],
   "source": []
  },
  {
   "cell_type": "markdown",
   "metadata": {},
   "source": [
    "## **FINAL WHITENING KEY**"
   ]
  },
  {
   "cell_type": "code",
   "execution_count": 63,
   "metadata": {},
   "outputs": [],
   "source": [
    "state_akhir = [0xde, 0x2b, 0xf2, 0xfd, 0xec, 0x12, 0xff,\n",
    "               0x89, 0xf1, 0x29, 0x85, 0x55, 0x76, 0xb6, 0x85, 0xfd]"
   ]
  },
  {
   "cell_type": "code",
   "execution_count": 64,
   "metadata": {},
   "outputs": [],
   "source": [
    "def final_whitening_key(state, key):\n",
    "    final_wk = state[0:4] + whitening_xor(state[4:8], key[8:12]) + \\\n",
    "        state[8:12] + whitening_xor(state[12:16], key[12:16])\n",
    "    return final_wk"
   ]
  },
  {
   "cell_type": "code",
   "execution_count": 66,
   "metadata": {},
   "outputs": [
    {
     "name": "stdout",
     "output_type": "stream",
     "text": [
      "['de', '2b', 'f2', 'fd', '9b', '74', 'aa', 'cd', 'f1', '29', '85', '55', '45', '94', '94', 'fd']\n",
      "16\n"
     ]
    }
   ],
   "source": [
    "final_white_key = final_whitening_key(state=state_akhir, key=key)\n",
    "final_wk = [hex(x)[2:] for x in final_white_key]\n",
    "print(final_wk)\n",
    "print(len(final_wk))"
   ]
  }
 ],
 "metadata": {
  "kernelspec": {
   "display_name": "Python 3",
   "language": "python",
   "name": "python3"
  },
  "language_info": {
   "codemirror_mode": {
    "name": "ipython",
    "version": 3
   },
   "file_extension": ".py",
   "mimetype": "text/x-python",
   "name": "python",
   "nbconvert_exporter": "python",
   "pygments_lexer": "ipython3",
   "version": "3.11.5"
  }
 },
 "nbformat": 4,
 "nbformat_minor": 2
}
