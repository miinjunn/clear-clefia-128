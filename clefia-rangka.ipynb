{
 "cells": [
  {
   "cell_type": "code",
   "execution_count": 23,
   "metadata": {},
   "outputs": [],
   "source": [
    "from fungsi import S0, S1, M0, M1, m0_mix, m1_mix, f0, f1"
   ]
  },
  {
   "cell_type": "markdown",
   "metadata": {},
   "source": [
    "## **INITIAL WHITENING KEY**"
   ]
  },
  {
   "cell_type": "code",
   "execution_count": 4,
   "metadata": {},
   "outputs": [],
   "source": [
    "plaintext = [0x00, 0x01, 0x02, 0x03, 0x04, 0x05, 0x06,\n",
    "             0x07, 0x08, 0x09, 0x0a, 0x0b, 0x0c, 0x0d, 0x0e, 0x0f]\n",
    "\n",
    "key = [0xff, 0xee, 0xdd, 0xcc, 0xbb, 0xaa, 0x99, 0x88,\n",
    "       0x77, 0x66, 0x55, 0x44, 0x33, 0x22, 0x11, 0x00]"
   ]
  },
  {
   "cell_type": "code",
   "execution_count": 5,
   "metadata": {},
   "outputs": [
    {
     "name": "stdout",
     "output_type": "stream",
     "text": [
      "['fb', 'eb', 'db', 'cb']\n"
     ]
    }
   ],
   "source": [
    "def whitening_xor(state1, state2):\n",
    "    temp_xor = []\n",
    "    for i in range(4):\n",
    "        temp_xor.append(state1[i] ^ state2[i])\n",
    "    return temp_xor\n",
    "\n",
    "\n",
    "ehx = whitening_xor(plaintext[4:8], key[0:4])\n",
    "final = [hex(x)[2:] for x in ehx]\n",
    "\n",
    "print(final)"
   ]
  },
  {
   "cell_type": "code",
   "execution_count": 6,
   "metadata": {},
   "outputs": [],
   "source": [
    "# whitening key\n",
    "# initial whitening key\n",
    "\n",
    "# plain    = 00010203 04050607 08090a0b 0c0d0e0f\n",
    "# key      = ffeeddcc bbaa9988 77665544 33221100\n",
    "# after    = 00010203 fbebdbcb 08090a0b b7a79787\n",
    "\n",
    "def wkey_initial(plain, key):\n",
    "    wk = plain[0:4] + whitening_xor(plain[4:8], key[0:4]) + \\\n",
    "        plain[8:12] + whitening_xor(plain[12:16], key[4:8])\n",
    "    return wk"
   ]
  },
  {
   "cell_type": "code",
   "execution_count": 7,
   "metadata": {},
   "outputs": [
    {
     "name": "stdout",
     "output_type": "stream",
     "text": [
      "['0', '1', '2', '3', 'fb', 'eb', 'db', 'cb', '8', '9', 'a', 'b', 'b7', 'a7', '97', '87']\n",
      "--------------\n",
      "16\n"
     ]
    }
   ],
   "source": [
    "initial_white_key = wkey_initial(plain=plaintext, key=key)\n",
    "\n",
    "initial_wk = [hex(x)[2:] for x in initial_white_key]\n",
    "print(initial_wk)\n",
    "print(\"--------------\")\n",
    "print(len(initial_wk))"
   ]
  },
  {
   "cell_type": "markdown",
   "metadata": {},
   "source": [
    "## **GFN (d,r)**  \n",
    "GFN_{d,r}  \n",
    "\n",
    "> d : branch  \n",
    "r   : round  \n",
    "Clefia-128 memiliki 4 branch tiap round.  \n",
    "menjadi GFN_{4,r}  \n",
    "\n",
    ">GFN menggunakan 2 fungsi, F0 dan F1 yang masing - masing 32bit  \n",
    "F0 berada pada data line pertama  \n",
    "F1 berada pada data line ketiga  "
   ]
  },
  {
   "cell_type": "code",
   "execution_count": 8,
   "metadata": {},
   "outputs": [],
   "source": [
    "def matriks(mat):\n",
    "    matriks = []\n",
    "    for i in range(4):\n",
    "        four_matriks = mat[i*4: i*4+4]\n",
    "        matriks.append(four_matriks)\n",
    "    return matriks"
   ]
  },
  {
   "cell_type": "code",
   "execution_count": 9,
   "metadata": {},
   "outputs": [],
   "source": [
    "tes = matriks(initial_wk)"
   ]
  },
  {
   "cell_type": "code",
   "execution_count": 10,
   "metadata": {},
   "outputs": [
    {
     "name": "stdout",
     "output_type": "stream",
     "text": [
      "[['0', '1', '2', '3'], ['fb', 'eb', 'db', 'cb'], ['8', '9', 'a', 'b'], ['b7', 'a7', '97', '87']]\n",
      "['0', '1', '2', '3']\n"
     ]
    }
   ],
   "source": [
    "print(tes)\n",
    "print(tes[0])"
   ]
  },
  {
   "cell_type": "code",
   "execution_count": 17,
   "metadata": {},
   "outputs": [],
   "source": [
    "X0, X1, X2, X3 = tes[0], tes[1], tes[2], tes[3]\n",
    "\n",
    "X0 = [int(i, base=16) for i in X0]\n",
    "X1 = [int(i, base=16) for i in X1]\n",
    "X2 = [int(i, base=16) for i in X2]\n",
    "X3 = [int(i, base=16) for i in X3]"
   ]
  },
  {
   "cell_type": "code",
   "execution_count": 18,
   "metadata": {},
   "outputs": [
    {
     "name": "stdout",
     "output_type": "stream",
     "text": [
      "[0, 1, 2, 3]\n",
      "[251, 235, 219, 203]\n",
      "[8, 9, 10, 11]\n",
      "[183, 167, 151, 135]\n"
     ]
    }
   ],
   "source": [
    "print(X0)\n",
    "print(X1)\n",
    "print(X2)\n",
    "print(X3)"
   ]
  },
  {
   "cell_type": "code",
   "execution_count": 19,
   "metadata": {},
   "outputs": [],
   "source": [
    "rk0 = [243, 230, 206, 249]\n",
    "rk1 = [141, 247, 94, 56]"
   ]
  },
  {
   "cell_type": "code",
   "execution_count": 24,
   "metadata": {},
   "outputs": [
    {
     "name": "stdout",
     "output_type": "stream",
     "text": [
      "f0 after M (round-0): [84, 122, 49, 147]\n",
      "f0_hex after M (round-0): ['54', '7a', '31', '93']\n"
     ]
    }
   ],
   "source": [
    "lane1 = f0(X0, rk0)\n",
    "print(f\"f0 after M (round-0): {lane1}\")\n",
    "lane1_hex = [hex(i)[2:] for i in lane1]\n",
    "print(f\"f0_hex after M (round-0): {lane1_hex}\")"
   ]
  },
  {
   "cell_type": "code",
   "execution_count": 25,
   "metadata": {},
   "outputs": [
    {
     "name": "stdout",
     "output_type": "stream",
     "text": [
      "f1 after M (round-0): [171, 241, 32, 112]\n",
      "f1_hex after M (round-0): ['ab', 'f1', '20', '70']\n"
     ]
    }
   ],
   "source": [
    "lane3 = f1(X2, rk1)\n",
    "print(f\"f1 after M (round-0): {lane3}\")\n",
    "lane3_hex = [hex(i)[2:] for i in lane3]\n",
    "print(f\"f1_hex after M (round-0): {lane3_hex}\")"
   ]
  },
  {
   "cell_type": "code",
   "execution_count": null,
   "metadata": {},
   "outputs": [],
   "source": [
    "# Diffusion Matrices\n",
    "# y = M0 trans(T) adalah\n",
    "def M0_trans(T0, T1, T2, T3):\n",
    "    y0 = T0 ^ (0x02 * T1) ^ (0X04 * T2) ^ (0X06 * T3)\n",
    "    y1 = (0X02 * T0) ^ (T1) ^ (0X06 * T2) ^ (0X04 * T3)\n",
    "    y2 = (0X04 * T0) ^ (0X06 * T1) ^ (T2) ^ (0X02 * T3)\n",
    "    y3 = (0X06 * T0) ^ (0X04 * T1) ^ (0X02 * T2) ^ (T3)\n",
    "    return y0, y1, y2, y3\n",
    "\n",
    "# y = M1 trans(T) adalah\n",
    "\n",
    "\n",
    "def M1_trans(T0, T1, T2, T3):\n",
    "    y0 = T0 ^ (0x08 * T1) ^ (0x02 * T2) ^ (0x0a * T3)\n",
    "    y1 = (0x08 * T0) ^ T1 ^ (0x0a * T2) ^ (0x02 * T3)\n",
    "    y2 = (0x02 * T0) ^ (0x0a * T1) ^ T2 ^ (0x08 * T3)\n",
    "    y3 = (0x0a * T0) ^ (0x02 * T1) ^ (0x08 * T2) ^ T3\n",
    "    return y0, y1, y2, y3"
   ]
  },
  {
   "cell_type": "code",
   "execution_count": null,
   "metadata": {},
   "outputs": [],
   "source": [
    "# input     : 32-bit round key RK, 32-bit data x,\n",
    "# output    : 32-bit data y\n",
    "\n",
    "def F0(rk, x):\n",
    "    T = rk ^ x\n",
    "    T0 = S0[T0]\n",
    "    T1 = S1[T1]\n",
    "    T2 = S0[T2]\n",
    "    T3 = S1[T3]\n",
    "    # T = T0 + T1 + T2 + T3\n",
    "    y0, y1, y2, y3 = M0_trans(T0, T1, T2, T3)\n",
    "    y = y0 + y1 + y2 + y3\n",
    "    return y\n",
    "\n",
    "\n",
    "def F1(rk, x):\n",
    "    T = rk ^ x\n",
    "    T0 = S1[T0]\n",
    "    T1 = S0[T1]\n",
    "    T2 = S1[T2]\n",
    "    T3 = S0[T3]\n",
    "    # T = T0 + T1 + T2 + T3\n",
    "    y0, y1, y2, y3 = M1_trans(T0, T1, T2, T3)\n",
    "    y = y0 + y1 + y2 + y3\n",
    "    return y"
   ]
  },
  {
   "cell_type": "markdown",
   "metadata": {},
   "source": [
    "## **DATA PROCESSING PART**"
   ]
  },
  {
   "cell_type": "markdown",
   "metadata": {},
   "source": [
    "***ENC***"
   ]
  },
  {
   "cell_type": "code",
   "execution_count": null,
   "metadata": {},
   "outputs": [],
   "source": [
    "# T0,T1,T2,T3 = P0 + (P1 ^ WK0) + P2 + (P3 ^ WK1)\n",
    "# P = plaintext\n",
    "# C = ciphertext\n",
    "# WK = whitening key\n",
    "\n",
    "# step 1\n",
    "T0 = P0\n",
    "T1 = P1 ^ WK0\n",
    "T2 = P2\n",
    "T3 = P3 ^ WK1\n",
    "\n",
    "# step 2\n",
    "GFN_{4,r}(RK_{0}, ..., RK_{2r - 1}, T0, T1, T2, T3)\n",
    "\n",
    "# step 3\n",
    "C0 = T0\n",
    "C1 = T1 ^ WK2\n",
    "C2 = T2\n",
    "C3 = T3 ^ WK3\n"
   ]
  },
  {
   "cell_type": "code",
   "execution_count": null,
   "metadata": {},
   "outputs": [],
   "source": []
  },
  {
   "cell_type": "markdown",
   "metadata": {},
   "source": [
    "## **FINAL WHITENING KEY**"
   ]
  },
  {
   "cell_type": "code",
   "execution_count": 63,
   "metadata": {},
   "outputs": [],
   "source": [
    "state_akhir = [0xde, 0x2b, 0xf2, 0xfd, 0xec, 0x12, 0xff,\n",
    "               0x89, 0xf1, 0x29, 0x85, 0x55, 0x76, 0xb6, 0x85, 0xfd]"
   ]
  },
  {
   "cell_type": "code",
   "execution_count": 64,
   "metadata": {},
   "outputs": [],
   "source": [
    "def final_whitening_key(state, key):\n",
    "    final_wk = state[0:4] + whitening_xor(state[4:8], key[8:12]) + \\\n",
    "        state[8:12] + whitening_xor(state[12:16], key[12:16])\n",
    "    return final_wk"
   ]
  },
  {
   "cell_type": "code",
   "execution_count": 66,
   "metadata": {},
   "outputs": [
    {
     "name": "stdout",
     "output_type": "stream",
     "text": [
      "['de', '2b', 'f2', 'fd', '9b', '74', 'aa', 'cd', 'f1', '29', '85', '55', '45', '94', '94', 'fd']\n",
      "16\n"
     ]
    }
   ],
   "source": [
    "final_white_key = final_whitening_key(state=state_akhir, key=key)\n",
    "final_wk = [hex(x)[2:] for x in final_white_key]\n",
    "print(final_wk)\n",
    "print(len(final_wk))"
   ]
  }
 ],
 "metadata": {
  "kernelspec": {
   "display_name": "Python 3",
   "language": "python",
   "name": "python3"
  },
  "language_info": {
   "codemirror_mode": {
    "name": "ipython",
    "version": 3
   },
   "file_extension": ".py",
   "mimetype": "text/x-python",
   "name": "python",
   "nbconvert_exporter": "python",
   "pygments_lexer": "ipython3",
   "version": "3.11.5"
  }
 },
 "nbformat": 4,
 "nbformat_minor": 2
}
